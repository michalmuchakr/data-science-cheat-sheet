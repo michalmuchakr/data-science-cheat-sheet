{
 "cells": [
  {
   "cell_type": "code",
   "execution_count": 83,
   "outputs": [],
   "source": [
    "import pandas as pd\n",
    "import re\n",
    "import seaborn as sns\n",
    "import numpy as np\n",
    "import matplotlib.pyplot as plt"
   ],
   "metadata": {
    "collapsed": false
   }
  },
  {
   "cell_type": "code",
   "execution_count": 84,
   "metadata": {
    "collapsed": true
   },
   "outputs": [
    {
     "data": {
      "text/plain": "   RANK      Country Happiness score Whisker-high Whisker-low  \\\n0     1      Finland           7,821        7,886       7,756   \n1     2      Denmark           7,636        7,710       7,563   \n2     3      Iceland           7,557        7,651       7,464   \n3     4  Switzerland           7,512        7,586       7,437   \n4     5  Netherlands           7,415        7,471       7,359   \n\n  Dystopia (1.83) + residual Explained by: GDP per capita  \\\n0                      2,518                        1,892   \n1                      2,226                        1,953   \n2                      2,320                        1,936   \n3                      2,153                        2,026   \n4                      2,137                        1,945   \n\n  Explained by: Social support Explained by: Healthy life expectancy  \\\n0                        1,258                                 0,775   \n1                        1,243                                 0,777   \n2                        1,320                                 0,803   \n3                        1,226                                 0,822   \n4                        1,206                                 0,787   \n\n  Explained by: Freedom to make life choices Explained by: Generosity  \\\n0                                      0,736                    0,109   \n1                                      0,719                    0,188   \n2                                      0,718                    0,270   \n3                                      0,677                    0,147   \n4                                      0,651                    0,271   \n\n  Explained by: Perceptions of corruption  \n0                                   0,534  \n1                                   0,532  \n2                                   0,191  \n3                                   0,461  \n4                                   0,419  ",
      "text/html": "<div>\n<style scoped>\n    .dataframe tbody tr th:only-of-type {\n        vertical-align: middle;\n    }\n\n    .dataframe tbody tr th {\n        vertical-align: top;\n    }\n\n    .dataframe thead th {\n        text-align: right;\n    }\n</style>\n<table border=\"1\" class=\"dataframe\">\n  <thead>\n    <tr style=\"text-align: right;\">\n      <th></th>\n      <th>RANK</th>\n      <th>Country</th>\n      <th>Happiness score</th>\n      <th>Whisker-high</th>\n      <th>Whisker-low</th>\n      <th>Dystopia (1.83) + residual</th>\n      <th>Explained by: GDP per capita</th>\n      <th>Explained by: Social support</th>\n      <th>Explained by: Healthy life expectancy</th>\n      <th>Explained by: Freedom to make life choices</th>\n      <th>Explained by: Generosity</th>\n      <th>Explained by: Perceptions of corruption</th>\n    </tr>\n  </thead>\n  <tbody>\n    <tr>\n      <th>0</th>\n      <td>1</td>\n      <td>Finland</td>\n      <td>7,821</td>\n      <td>7,886</td>\n      <td>7,756</td>\n      <td>2,518</td>\n      <td>1,892</td>\n      <td>1,258</td>\n      <td>0,775</td>\n      <td>0,736</td>\n      <td>0,109</td>\n      <td>0,534</td>\n    </tr>\n    <tr>\n      <th>1</th>\n      <td>2</td>\n      <td>Denmark</td>\n      <td>7,636</td>\n      <td>7,710</td>\n      <td>7,563</td>\n      <td>2,226</td>\n      <td>1,953</td>\n      <td>1,243</td>\n      <td>0,777</td>\n      <td>0,719</td>\n      <td>0,188</td>\n      <td>0,532</td>\n    </tr>\n    <tr>\n      <th>2</th>\n      <td>3</td>\n      <td>Iceland</td>\n      <td>7,557</td>\n      <td>7,651</td>\n      <td>7,464</td>\n      <td>2,320</td>\n      <td>1,936</td>\n      <td>1,320</td>\n      <td>0,803</td>\n      <td>0,718</td>\n      <td>0,270</td>\n      <td>0,191</td>\n    </tr>\n    <tr>\n      <th>3</th>\n      <td>4</td>\n      <td>Switzerland</td>\n      <td>7,512</td>\n      <td>7,586</td>\n      <td>7,437</td>\n      <td>2,153</td>\n      <td>2,026</td>\n      <td>1,226</td>\n      <td>0,822</td>\n      <td>0,677</td>\n      <td>0,147</td>\n      <td>0,461</td>\n    </tr>\n    <tr>\n      <th>4</th>\n      <td>5</td>\n      <td>Netherlands</td>\n      <td>7,415</td>\n      <td>7,471</td>\n      <td>7,359</td>\n      <td>2,137</td>\n      <td>1,945</td>\n      <td>1,206</td>\n      <td>0,787</td>\n      <td>0,651</td>\n      <td>0,271</td>\n      <td>0,419</td>\n    </tr>\n  </tbody>\n</table>\n</div>"
     },
     "execution_count": 84,
     "metadata": {},
     "output_type": "execute_result"
    }
   ],
   "source": [
    "# load data\n",
    "# dataset: https://www.kaggle.com/datasets/mirichoi0218/insurance\n",
    "df = pd.read_csv('../../data/world_happiness/2022.csv')\n",
    "df.head()"
   ]
  },
  {
   "cell_type": "code",
   "execution_count": 85,
   "outputs": [
    {
     "data": {
      "text/plain": "Index(['RANK', 'Country', 'Happiness score', 'Whisker-high', 'Whisker-low',\n       'Dystopia (1.83) + residual', 'Explained by: GDP per capita',\n       'Explained by: Social support', 'Explained by: Healthy life expectancy',\n       'Explained by: Freedom to make life choices',\n       'Explained by: Generosity', 'Explained by: Perceptions of corruption'],\n      dtype='object')"
     },
     "execution_count": 85,
     "metadata": {},
     "output_type": "execute_result"
    }
   ],
   "source": [
    "df.columns"
   ],
   "metadata": {
    "collapsed": false
   }
  },
  {
   "cell_type": "code",
   "execution_count": 86,
   "outputs": [
    {
     "name": "stdout",
     "output_type": "stream",
     "text": [
      "<class 'pandas.core.frame.DataFrame'>\n",
      "RangeIndex: 147 entries, 0 to 146\n",
      "Data columns (total 12 columns):\n",
      " #   Column                                      Non-Null Count  Dtype \n",
      "---  ------                                      --------------  ----- \n",
      " 0   RANK                                        147 non-null    int64 \n",
      " 1   Country                                     147 non-null    object\n",
      " 2   Happiness score                             146 non-null    object\n",
      " 3   Whisker-high                                146 non-null    object\n",
      " 4   Whisker-low                                 146 non-null    object\n",
      " 5   Dystopia (1.83) + residual                  146 non-null    object\n",
      " 6   Explained by: GDP per capita                146 non-null    object\n",
      " 7   Explained by: Social support                146 non-null    object\n",
      " 8   Explained by: Healthy life expectancy       146 non-null    object\n",
      " 9   Explained by: Freedom to make life choices  146 non-null    object\n",
      " 10  Explained by: Generosity                    146 non-null    object\n",
      " 11  Explained by: Perceptions of corruption     146 non-null    object\n",
      "dtypes: int64(1), object(11)\n",
      "memory usage: 13.9+ KB\n"
     ]
    }
   ],
   "source": [
    "df.info()"
   ],
   "metadata": {
    "collapsed": false
   }
  },
  {
   "cell_type": "code",
   "execution_count": 1,
   "outputs": [
    {
     "ename": "NameError",
     "evalue": "name 'df' is not defined",
     "output_type": "error",
     "traceback": [
      "\u001B[0;31m---------------------------------------------------------------------------\u001B[0m",
      "\u001B[0;31mNameError\u001B[0m                                 Traceback (most recent call last)",
      "Cell \u001B[0;32mIn[1], line 3\u001B[0m\n\u001B[1;32m      1\u001B[0m new_column_names \u001B[38;5;241m=\u001B[39m [re\u001B[38;5;241m.\u001B[39msub(\u001B[38;5;124mr\u001B[39m\u001B[38;5;124m'\u001B[39m\u001B[38;5;124m[^a-zA-Z0-9_\u001B[39m\u001B[38;5;124m\\\u001B[39m\u001B[38;5;124ms]\u001B[39m\u001B[38;5;124m'\u001B[39m, \u001B[38;5;124m'\u001B[39m\u001B[38;5;124m'\u001B[39m,\n\u001B[1;32m      2\u001B[0m     name\u001B[38;5;241m.\u001B[39mlower()\u001B[38;5;241m.\u001B[39mreplace(\u001B[38;5;124m'\u001B[39m\u001B[38;5;124mexplained by: \u001B[39m\u001B[38;5;124m'\u001B[39m, \u001B[38;5;124m'\u001B[39m\u001B[38;5;124m'\u001B[39m)\u001B[38;5;241m.\u001B[39mreplace(\u001B[38;5;124m'\u001B[39m\u001B[38;5;124m \u001B[39m\u001B[38;5;124m'\u001B[39m, \u001B[38;5;124m'\u001B[39m\u001B[38;5;124m_\u001B[39m\u001B[38;5;124m'\u001B[39m)\u001B[38;5;241m.\u001B[39mreplace(\u001B[38;5;124m'\u001B[39m\u001B[38;5;124m-\u001B[39m\u001B[38;5;124m'\u001B[39m, \u001B[38;5;124m'\u001B[39m\u001B[38;5;124m_\u001B[39m\u001B[38;5;124m'\u001B[39m))\n\u001B[0;32m----> 3\u001B[0m     \u001B[38;5;28;01mfor\u001B[39;00m name \u001B[38;5;129;01min\u001B[39;00m \u001B[43mdf\u001B[49m\u001B[38;5;241m.\u001B[39mcolumns]\n\u001B[1;32m      4\u001B[0m df\u001B[38;5;241m.\u001B[39mcolumns \u001B[38;5;241m=\u001B[39m new_column_names\n\u001B[1;32m      5\u001B[0m df\u001B[38;5;241m.\u001B[39mhead()\n",
      "\u001B[0;31mNameError\u001B[0m: name 'df' is not defined"
     ]
    }
   ],
   "source": [
    "new_column_names = [re.sub(r'[^a-zA-Z0-9_\\s]', '',\n",
    "    name.lower().replace('explained by: ', '').replace(' ', '_').replace('-', '_'))\n",
    "    for name in df.columns]\n",
    "df.columns = new_column_names\n",
    "df.head()"
   ],
   "metadata": {
    "collapsed": false
   }
  },
  {
   "cell_type": "code",
   "execution_count": 87,
   "outputs": [],
   "source": [],
   "metadata": {
    "collapsed": false
   }
  }
 ],
 "metadata": {
  "kernelspec": {
   "display_name": "Python 3",
   "language": "python",
   "name": "python3"
  },
  "language_info": {
   "codemirror_mode": {
    "name": "ipython",
    "version": 2
   },
   "file_extension": ".py",
   "mimetype": "text/x-python",
   "name": "python",
   "nbconvert_exporter": "python",
   "pygments_lexer": "ipython2",
   "version": "2.7.6"
  }
 },
 "nbformat": 4,
 "nbformat_minor": 0
}
